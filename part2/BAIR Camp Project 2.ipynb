{
 "cells": [
  {
   "cell_type": "markdown",
   "metadata": {},
   "source": [
    "# BAIR Camp Project Part 2: Learning to Imitate\n",
    "\n",
    "In this project, you will make a robot and a car learn to imitate! \n",
    "\n",
    "Before starting, first take a look at the code in project_part2.py. In particular, see what objects and functions are available for you to call, and read about what they do. As you start below, keep project_part2.py open as a reference."
   ]
  },
  {
   "cell_type": "code",
   "execution_count": null,
   "metadata": {
    "collapsed": true
   },
   "outputs": [],
   "source": [
    "from project_part2 import ImitationRobot, ImitationCar, collect_demonstrations, show_demonstrations\n",
    "import tensorflow as tf\n",
    "square = tf.square"
   ]
  },
  {
   "cell_type": "markdown",
   "metadata": {},
   "source": [
    "### Part 2A: Robot locomotion\n",
    "First, make your robot. Choose between a hopper, walker, or swimmer robot."
   ]
  },
  {
   "cell_type": "code",
   "execution_count": null,
   "metadata": {
    "collapsed": true
   },
   "outputs": [],
   "source": [
    "### solution: my_robot = ImitationRobot('hopper')\n",
    "my_robot = ## your code here."
   ]
  },
  {
   "cell_type": "markdown",
   "metadata": {},
   "source": [
    "Right now, your agent has random parameters. See what your agent does by running it."
   ]
  },
  {
   "cell_type": "code",
   "execution_count": null,
   "metadata": {
    "collapsed": true
   },
   "outputs": [],
   "source": [
    "### solution: my_robot.run()\n",
    "## your code here."
   ]
  },
  {
   "cell_type": "markdown",
   "metadata": {},
   "source": [
    "Ok, we need to define the loss function for imitation. The rest of the learning has been implemented in project_part2.py. To compute the square of a variable, use the function square() and to compute the absolute value, use the function abs()."
   ]
  },
  {
   "cell_type": "code",
   "execution_count": null,
   "metadata": {
    "collapsed": true
   },
   "outputs": [],
   "source": [
    "def loss_function(robot_action, expert_action):\n",
    "    ### solution: loss = square(robot_action - expert_action)\n",
    "    ## your code here.\n",
    "    return loss\n",
    "\n",
    "my_robot.set_loss(loss_function)"
   ]
  },
  {
   "cell_type": "markdown",
   "metadata": {},
   "source": [
    "Now, it is time to train the robot. Before training the robot, we need data collected from an expert. Next, collect demonstrations from an expert of your choice and visualize what the demonstrations look like."
   ]
  },
  {
   "cell_type": "code",
   "execution_count": 1,
   "metadata": {
    "collapsed": true
   },
   "outputs": [],
   "source": [
    "### solution: demonstrations = collect_demonstrations('hopper')\n",
    "### solution: show_demonstrations(demonstrations)\n",
    "## your code here."
   ]
  },
  {
   "cell_type": "markdown",
   "metadata": {},
   "source": [
    "Now, decide how many iterations you want to train your robot for, and give the robot the demonstrations for training. Once you are done training, run the robot to see what the robot has learned! Note that, every time you call train(), training is restarted.\n",
    "\n",
    "How many iterations does the robot need to learn how to run?"
   ]
  },
  {
   "cell_type": "code",
   "execution_count": 2,
   "metadata": {
    "collapsed": true
   },
   "outputs": [],
   "source": [
    "### solution: for _ in range(2000): my_robot.train_step(demonstrations)\n",
    "### solution: my_robot.run()\n",
    "## your code here."
   ]
  },
  {
   "cell_type": "markdown",
   "metadata": {},
   "source": [
    "Now, try experimenting wiht different experts and different numbers of demonstrations, by inputting different arguments to the collect_demonstrations function.\n",
    "\n",
    "How does the robot's behavior as it imitates varying numbers of demonstrations and varying experts?"
   ]
  },
  {
   "cell_type": "markdown",
   "metadata": {},
   "source": [
    "### Part 2B: Driving\n",
    "Now it is time to learn to drive!"
   ]
  },
  {
   "cell_type": "code",
   "execution_count": null,
   "metadata": {
    "collapsed": true
   },
   "outputs": [],
   "source": []
  }
 ],
 "metadata": {
  "kernelspec": {
   "display_name": "Python 2",
   "language": "python",
   "name": "python2"
  },
  "language_info": {
   "codemirror_mode": {
    "name": "ipython",
    "version": 2
   },
   "file_extension": ".py",
   "mimetype": "text/x-python",
   "name": "python",
   "nbconvert_exporter": "python",
   "pygments_lexer": "ipython2",
   "version": "2.7.10"
  }
 },
 "nbformat": 4,
 "nbformat_minor": 1
}
